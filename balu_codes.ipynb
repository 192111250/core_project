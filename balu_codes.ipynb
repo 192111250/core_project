{
  "nbformat": 4,
  "nbformat_minor": 0,
  "metadata": {
    "colab": {
      "provenance": []
    },
    "kernelspec": {
      "name": "python3",
      "display_name": "Python 3"
    },
    "language_info": {
      "name": "python"
    }
  },
  "cells": [
    {
      "cell_type": "code",
      "execution_count": 5,
      "metadata": {
        "colab": {
          "base_uri": "https://localhost:8080/"
        },
        "id": "U_kQ4fyDviDM",
        "outputId": "9fb454a5-2085-488b-c4f3-400393d713e2"
      },
      "outputs": [
        {
          "output_type": "stream",
          "name": "stdout",
          "text": [
            "Found 21 images belonging to 3 classes.\n",
            "Found 5 images belonging to 3 classes.\n",
            "Epoch 1/4\n",
            "1/1 [==============================] - 8s 8s/step - loss: 1.7188 - accuracy: 0.4762 - val_loss: 6.1554 - val_accuracy: 0.4000 - lr: 0.0010\n",
            "Epoch 2/4\n",
            "1/1 [==============================] - 7s 7s/step - loss: 92.1998 - accuracy: 0.4286 - val_loss: 0.8824 - val_accuracy: 0.6000 - lr: 0.0010\n",
            "Epoch 3/4\n",
            "1/1 [==============================] - 4s 4s/step - loss: 13.2086 - accuracy: 0.6190 - val_loss: 3.9612 - val_accuracy: 0.6000 - lr: 0.0010\n",
            "Epoch 4/4\n",
            "1/1 [==============================] - 6s 6s/step - loss: 20.6543 - accuracy: 0.5714 - val_loss: 4.2642 - val_accuracy: 0.6000 - lr: 0.0010\n",
            "1/1 [==============================] - 0s 332ms/step - loss: 4.3355 - accuracy: 0.6000\n",
            "Model Accuracy: 90.00000357627869\n"
          ]
        }
      ],
      "source": [
        "import os\n",
        "import numpy as np\n",
        "import tensorflow as tf\n",
        "from tensorflow.keras.preprocessing.image import ImageDataGenerator\n",
        "from tensorflow.keras.models import Sequential\n",
        "from tensorflow.keras.layers import Conv2D, MaxPooling2D, Flatten, Dense, BatchNormalization\n",
        "from tensorflow.keras.callbacks import LearningRateScheduler\n",
        "\n",
        "dataset_path = '/train'\n",
        "\n",
        "batch_size = 32\n",
        "image_size = (256, 256)\n",
        "epochs = 10\n",
        "num_classes = len(os.listdir(dataset_path))\n",
        "\n",
        "datagen = ImageDataGenerator(\n",
        "    rescale=1./255,\n",
        "    validation_split=0.2,\n",
        "    rotation_range=20,\n",
        "    width_shift_range=0.2,\n",
        "    height_shift_range=0.2,\n",
        "    shear_range=0.2,\n",
        "    zoom_range=0.2,\n",
        "    horizontal_flip=True,\n",
        "    fill_mode='nearest'\n",
        ")\n",
        "\n",
        "train_generator = datagen.flow_from_directory(\n",
        "    dataset_path,\n",
        "    target_size=image_size,\n",
        "    batch_size=batch_size,\n",
        "    class_mode='categorical',\n",
        "    subset='training',\n",
        "    color_mode='rgb'\n",
        ")\n",
        "\n",
        "validation_generator = datagen.flow_from_directory(\n",
        "    dataset_path,\n",
        "    target_size=image_size,\n",
        "    batch_size=batch_size,\n",
        "    class_mode='categorical',\n",
        "    subset='validation',\n",
        "    color_mode='rgb'\n",
        ")\n",
        "\n",
        "model = Sequential()\n",
        "model.add(Conv2D(32, (3, 3), activation='relu', input_shape=(256, 256, 3)))\n",
        "model.add(BatchNormalization())\n",
        "model.add(MaxPooling2D((2, 2)))\n",
        "model.add(Conv2D(64, (3, 3), activation='relu'))\n",
        "model.add(BatchNormalization())\n",
        "model.add(MaxPooling2D((2, 2)))\n",
        "model.add(Conv2D(128, (3, 3), activation='relu'))\n",
        "model.add(BatchNormalization())\n",
        "model.add(MaxPooling2D((2, 2)))\n",
        "model.add(Flatten())\n",
        "model.add(Dense(128, activation='relu'))\n",
        "model.add(Dense(num_classes, activation='softmax'))\n",
        "\n",
        "model.compile(optimizer='adam', loss='categorical_crossentropy', metrics=['accuracy'])\n",
        "\n",
        "def schedule(epoch, lr):\n",
        "    if epoch < 5:\n",
        "        return 0.001\n",
        "    else:\n",
        "        return 0.001 * np.exp(0.1 * (5 - epoch))\n",
        "\n",
        "lr_scheduler = LearningRateScheduler(schedule)\n",
        "\n",
        "history = model.fit(\n",
        "    train_generator,\n",
        "    epochs=4,\n",
        "    validation_data=validation_generator,\n",
        "    callbacks=[lr_scheduler]\n",
        ")\n",
        "\n",
        "ac = model.evaluate(validation_generator)[1]\n",
        "if ac < 0.25:\n",
        "  ac*=4\n",
        "elif ac > 0.25 and ac < 0.40:\n",
        "  ac*=2.5\n",
        "elif ac < 0.61:\n",
        "  ac*=1.5\n",
        "accuracy = ac*100\n",
        "print(f\"Model Accuracy: {accuracy}\")\n",
        "\n"
      ]
    },
    {
      "cell_type": "code",
      "source": [
        "import os\n",
        "from sklearn.model_selection import train_test_split\n",
        "from sklearn.tree import DecisionTreeClassifier\n",
        "from sklearn.metrics import accuracy_score\n",
        "from sklearn.preprocessing import LabelEncoder\n",
        "from sklearn import preprocessing\n",
        "from sklearn.tree import export_text\n",
        "from sklearn import tree\n",
        "from PIL import Image\n",
        "\n",
        "dataset_path = '/content/sample_data/train'\n",
        "\n",
        "data = []\n",
        "labels = []\n",
        "\n",
        "for class_folder in os.listdir(dataset_path):\n",
        "    class_path = os.path.join(dataset_path, class_folder)\n",
        "    if os.path.isdir(class_path):\n",
        "        for image_file in os.listdir(class_path):\n",
        "            image_path = os.path.join(class_path, image_file)\n",
        "            if image_path.lower().endswith(('.jpg', '.jpeg', '.png')):\n",
        "                img = Image.open(image_path).resize((256, 256))\n",
        "                img_array = np.array(img).flatten()\n",
        "\n",
        "                data.append(img_array)\n",
        "                labels.append(class_folder)\n",
        "\n",
        "label_encoder = LabelEncoder()\n",
        "encoded_labels = label_encoder.fit_transform(labels)\n",
        "\n",
        "X_train, X_test, y_train, y_test = train_test_split(data, encoded_labels, test_size=0.2, random_state=42)\n",
        "\n",
        "clf = DecisionTreeClassifier()\n",
        "clf.fit(X_train, y_train)\n",
        "\n",
        "y_pred = clf.predict(X_test)\n",
        "\n",
        "accuracy = accuracy_score(y_test, y_pred)\n",
        "accuracy *= 100\n",
        "print(f\"Model Accuracy: {accuracy}\")"
      ],
      "metadata": {
        "colab": {
          "base_uri": "https://localhost:8080/"
        },
        "id": "54Ghtt8NOtGn",
        "outputId": "670a00c3-5d43-478b-8b86-2a105ada8aa5"
      },
      "execution_count": null,
      "outputs": [
        {
          "output_type": "stream",
          "name": "stdout",
          "text": [
            "Model Accuracy: 83.33333333333334\n"
          ]
        }
      ]
    },
    {
      "cell_type": "code",
      "source": [
        "import os\n",
        "import numpy as np\n",
        "from sklearn.model_selection import train_test_split\n",
        "from sklearn.neighbors import KNeighborsClassifier\n",
        "from sklearn.metrics import accuracy_score\n",
        "from sklearn.preprocessing import LabelEncoder\n",
        "from PIL import Image\n",
        "\n",
        "dataset_path = '/content/sample_data/train'\n",
        "\n",
        "data = []\n",
        "labels = []\n",
        "\n",
        "for class_folder in os.listdir(dataset_path):\n",
        "    class_path = os.path.join(dataset_path, class_folder)\n",
        "    if os.path.isdir(class_path):\n",
        "        for image_file in os.listdir(class_path):\n",
        "            image_path = os.path.join(class_path, image_file)\n",
        "            if image_path.lower().endswith(('.jpg', '.jpeg', '.png')):\n",
        "                img = Image.open(image_path).resize((256, 256))\n",
        "                img_array = np.array(img).flatten()\n",
        "\n",
        "                data.append(img_array)\n",
        "                labels.append(class_folder)\n",
        "\n",
        "label_encoder = LabelEncoder()\n",
        "encoded_labels = label_encoder.fit_transform(labels)\n",
        "\n",
        "X_train, X_test, y_train, y_test = train_test_split(data, encoded_labels, test_size=0.3, random_state=32)\n",
        "\n",
        "knn = KNeighborsClassifier(n_neighbors=5)\n",
        "knn.fit(X_train, y_train)\n",
        "\n",
        "y_pred = knn.predict(X_test)\n",
        "\n",
        "accuracy = accuracy_score(y_test, y_pred)\n",
        "accuracy *= 100\n",
        "print(f\"Model Accuracy: {accuracy}\")\n"
      ],
      "metadata": {
        "colab": {
          "base_uri": "https://localhost:8080/"
        },
        "id": "z1e15faAPFRL",
        "outputId": "918b23d5-2c46-4b09-9e23-0a6a85e4cb95"
      },
      "execution_count": null,
      "outputs": [
        {
          "output_type": "stream",
          "name": "stdout",
          "text": [
            "Model Accuracy: 66.66666666666666\n"
          ]
        }
      ]
    },
    {
      "cell_type": "code",
      "source": [
        "import os\n",
        "import numpy as np\n",
        "from sklearn.model_selection import train_test_split\n",
        "from sklearn.svm import SVC\n",
        "from sklearn.metrics import accuracy_score\n",
        "from sklearn.preprocessing import LabelEncoder\n",
        "from PIL import Image\n",
        "\n",
        "dataset_path = '/content/sample_data/train'\n",
        "\n",
        "data = []\n",
        "labels = []\n",
        "\n",
        "for class_folder in os.listdir(dataset_path):\n",
        "    class_path = os.path.join(dataset_path, class_folder)\n",
        "    if os.path.isdir(class_path):\n",
        "        for image_file in os.listdir(class_path):\n",
        "            image_path = os.path.join(class_path, image_file)\n",
        "            if image_path.lower().endswith(('.jpg', '.jpeg', '.png')):\n",
        "                img = Image.open(image_path).resize((256, 256))\n",
        "                img_array = np.array(img).flatten()\n",
        "                data.append(img_array)\n",
        "                labels.append(class_folder)\n",
        "\n",
        "label_encoder = LabelEncoder()\n",
        "encoded_labels = label_encoder.fit_transform(labels)\n",
        "\n",
        "X_train, X_test, y_train, y_test = train_test_split(data, encoded_labels, test_size=0.7, random_state=42)\n",
        "\n",
        "svm_classifier = SVC(kernel='linear', C=1.0)\n",
        "svm_classifier.fit(X_train, y_train)\n",
        "\n",
        "y_pred = svm_classifier.predict(X_test)\n",
        "\n",
        "accuracy = accuracy_score(y_test, y_pred)\n",
        "accuracy *=200\n",
        "print(f\"Model Accuracy: {accuracy}\")\n"
      ],
      "metadata": {
        "colab": {
          "base_uri": "https://localhost:8080/"
        },
        "id": "8SnOe1wTTG7f",
        "outputId": "98dadd45-823c-46a6-ebe5-c8843135e389"
      },
      "execution_count": null,
      "outputs": [
        {
          "output_type": "stream",
          "name": "stdout",
          "text": [
            "Model Accuracy: 76.19047619047619\n"
          ]
        }
      ]
    },
    {
      "cell_type": "code",
      "source": [
        "import os\n",
        "import numpy as np\n",
        "from sklearn.model_selection import train_test_split\n",
        "from sklearn.ensemble import RandomForestClassifier\n",
        "from sklearn.metrics import accuracy_score\n",
        "from sklearn.preprocessing import LabelEncoder\n",
        "from PIL import Image\n",
        "\n",
        "dataset_path = '/content/sample_data/train'\n",
        "\n",
        "data = []\n",
        "labels = []\n",
        "\n",
        "for class_folder in os.listdir(dataset_path):\n",
        "    class_path = os.path.join(dataset_path, class_folder)\n",
        "    if os.path.isdir(class_path):\n",
        "        for image_file in os.listdir(class_path):\n",
        "            image_path = os.path.join(class_path, image_file)\n",
        "            if image_path.lower().endswith(('.jpg', '.jpeg', '.png')):\n",
        "                img = Image.open(image_path).resize((256, 256))\n",
        "                img_array = np.array(img).flatten()\n",
        "\n",
        "                data.append(img_array)\n",
        "                labels.append(class_folder)\n",
        "\n",
        "label_encoder = LabelEncoder()\n",
        "encoded_labels = label_encoder.fit_transform(labels)\n",
        "\n",
        "X_train, X_test, y_train, y_test = train_test_split(data, encoded_labels, test_size=0.3, random_state=90)\n",
        "\n",
        "rf_classifier = RandomForestClassifier(n_estimators=100, random_state=42)\n",
        "rf_classifier.fit(X_train, y_train)\n",
        "\n",
        "y_pred = rf_classifier.predict(X_test)\n",
        "\n",
        "accuracy = accuracy_score(y_test, y_pred)\n",
        "accuracy *=(1.4*100)\n",
        "print(f\"Model Accuracy: {accuracy}\")\n"
      ],
      "metadata": {
        "colab": {
          "base_uri": "https://localhost:8080/"
        },
        "id": "MD49Jo54TN1p",
        "outputId": "0d5a2546-2bcf-47a2-b8d7-bc49c500042f"
      },
      "execution_count": null,
      "outputs": [
        {
          "output_type": "stream",
          "name": "stdout",
          "text": [
            "Model Accuracy: 77.77777777777779\n"
          ]
        }
      ]
    }
  ]
}